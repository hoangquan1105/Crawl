{
  "nbformat": 4,
  "nbformat_minor": 0,
  "metadata": {
    "colab": {
      "name": "Untitled3.ipynb",
      "provenance": [],
      "collapsed_sections": [],
      "toc_visible": true,
      "authorship_tag": "ABX9TyMPqgDsD8AqFA+1cIqFeDpA",
      "include_colab_link": true
    },
    "kernelspec": {
      "name": "python3",
      "display_name": "Python 3"
    },
    "language_info": {
      "name": "python"
    }
  },
  "cells": [
    {
      "cell_type": "markdown",
      "metadata": {
        "id": "view-in-github",
        "colab_type": "text"
      },
      "source": [
        "<a href=\"https://colab.research.google.com/github/19522224/CS114.L21/blob/master/LinearRegression_Example.ipynb\" target=\"_parent\"><img src=\"https://colab.research.google.com/assets/colab-badge.svg\" alt=\"Open In Colab\"/></a>"
      ]
    },
    {
      "cell_type": "markdown",
      "metadata": {
        "id": "d3th__8573V1"
      },
      "source": [
        "# **Linear Regression**"
      ]
    },
    {
      "cell_type": "markdown",
      "metadata": {
        "id": "E1__LwVMqrV6"
      },
      "source": [
        "**Download data from git**"
      ]
    },
    {
      "cell_type": "code",
      "metadata": {
        "id": "bKVOZETpqvsd",
        "outputId": "5a391534-f92b-493f-f7b0-aea750d965fd",
        "colab": {
          "base_uri": "https://localhost:8080/"
        }
      },
      "source": [
        "!curl https://raw.githubusercontent.com/19522224/CS114.L21/master/data2.txt > data2.txt\n",
        "!curl https://raw.githubusercontent.com/19522224/CS114.L21/master/data3.txt > data3.txt\n",
        "!curl https://raw.githubusercontent.com/19522224/CS114.L21/master/data4.txt > data4.txt"
      ],
      "execution_count": 76,
      "outputs": [
        {
          "output_type": "stream",
          "text": [
            "  % Total    % Received % Xferd  Average Speed   Time    Time     Time  Current\n",
            "                                 Dload  Upload   Total   Spent    Left  Speed\n",
            "100 1175k  100 1175k    0     0  18.5M      0 --:--:-- --:--:-- --:--:-- 18.8M\n",
            "  % Total    % Received % Xferd  Average Speed   Time    Time     Time  Current\n",
            "                                 Dload  Upload   Total   Spent    Left  Speed\n",
            "100  174k  100  174k    0     0  1323k      0 --:--:-- --:--:-- --:--:-- 1323k\n",
            "  % Total    % Received % Xferd  Average Speed   Time    Time     Time  Current\n",
            "                                 Dload  Upload   Total   Spent    Left  Speed\n",
            "100   99k  100   99k    0     0   794k      0 --:--:-- --:--:-- --:--:--  794k\n"
          ],
          "name": "stdout"
        }
      ]
    },
    {
      "cell_type": "markdown",
      "metadata": {
        "id": "M2IU8Moa8LAs"
      },
      "source": [
        "**Import Libraries**"
      ]
    },
    {
      "cell_type": "code",
      "metadata": {
        "id": "fzoEvcip6tPn"
      },
      "source": [
        "import numpy as np\n",
        "from sklearn.linear_model import LinearRegression\n",
        "import matplotlib.pyplot as plt\n",
        "import pandas as pd"
      ],
      "execution_count": 77,
      "outputs": []
    },
    {
      "cell_type": "markdown",
      "metadata": {
        "id": "NIH33tV08erQ"
      },
      "source": [
        "**Import Dataset**"
      ]
    },
    {
      "cell_type": "code",
      "metadata": {
        "id": "vU5FYSLk8PfN",
        "colab": {
          "base_uri": "https://localhost:8080/",
          "height": 195
        },
        "outputId": "975e1e65-c4cb-4ee2-89bb-67cafaf6637f"
      },
      "source": [
        "data_df=pd.read_csv('./data2.txt')\n",
        "data_df.head()"
      ],
      "execution_count": 78,
      "outputs": [
        {
          "output_type": "execute_result",
          "data": {
            "text/html": [
              "<div>\n",
              "<style scoped>\n",
              "    .dataframe tbody tr th:only-of-type {\n",
              "        vertical-align: middle;\n",
              "    }\n",
              "\n",
              "    .dataframe tbody tr th {\n",
              "        vertical-align: top;\n",
              "    }\n",
              "\n",
              "    .dataframe thead th {\n",
              "        text-align: right;\n",
              "    }\n",
              "</style>\n",
              "<table border=\"1\" class=\"dataframe\">\n",
              "  <thead>\n",
              "    <tr style=\"text-align: right;\">\n",
              "      <th></th>\n",
              "      <th>A</th>\n",
              "      <th>B</th>\n",
              "    </tr>\n",
              "  </thead>\n",
              "  <tbody>\n",
              "    <tr>\n",
              "      <th>0</th>\n",
              "      <td>6083695</td>\n",
              "      <td>0.521842</td>\n",
              "    </tr>\n",
              "    <tr>\n",
              "      <th>1</th>\n",
              "      <td>1954367</td>\n",
              "      <td>0.152648</td>\n",
              "    </tr>\n",
              "    <tr>\n",
              "      <th>2</th>\n",
              "      <td>3734185</td>\n",
              "      <td>0.298548</td>\n",
              "    </tr>\n",
              "    <tr>\n",
              "      <th>3</th>\n",
              "      <td>5839301</td>\n",
              "      <td>0.460480</td>\n",
              "    </tr>\n",
              "    <tr>\n",
              "      <th>4</th>\n",
              "      <td>6343427</td>\n",
              "      <td>0.527977</td>\n",
              "    </tr>\n",
              "  </tbody>\n",
              "</table>\n",
              "</div>"
            ],
            "text/plain": [
              "         A         B\n",
              "0  6083695  0.521842\n",
              "1  1954367  0.152648\n",
              "2  3734185  0.298548\n",
              "3  5839301  0.460480\n",
              "4  6343427  0.527977"
            ]
          },
          "metadata": {
            "tags": []
          },
          "execution_count": 78
        }
      ]
    },
    {
      "cell_type": "markdown",
      "metadata": {
        "id": "e2icSgLE9Byk"
      },
      "source": [
        "**Define x and y**"
      ]
    },
    {
      "cell_type": "code",
      "metadata": {
        "id": "q2zlyytq9Jm6"
      },
      "source": [
        "x=data_df.drop(['B'],axis=1).values\n",
        "y=data_df['B'].values"
      ],
      "execution_count": 33,
      "outputs": []
    },
    {
      "cell_type": "code",
      "metadata": {
        "colab": {
          "base_uri": "https://localhost:8080/"
        },
        "id": "s-FyP36UFFLG",
        "outputId": "bbbdc294-9664-44db-cfb8-aa4ca519de36"
      },
      "source": [
        "print(x)"
      ],
      "execution_count": 79,
      "outputs": [
        {
          "output_type": "stream",
          "text": [
            "[[6083695]\n",
            " [1954367]\n",
            " [3734185]\n",
            " ...\n",
            " [9837364]\n",
            " [9466593]\n",
            " [4080801]]\n"
          ],
          "name": "stdout"
        }
      ]
    },
    {
      "cell_type": "code",
      "metadata": {
        "colab": {
          "base_uri": "https://localhost:8080/"
        },
        "id": "RIvk_fwYFH_Y",
        "outputId": "160f8c3d-0955-455a-bbe8-77addcbd6fdb"
      },
      "source": [
        "print(y)"
      ],
      "execution_count": 80,
      "outputs": [
        {
          "output_type": "stream",
          "text": [
            "[0.521842 0.152648 0.298548 ... 0.801394 0.776407 0.314468]\n"
          ],
          "name": "stdout"
        }
      ]
    },
    {
      "cell_type": "markdown",
      "metadata": {
        "id": "qvwaOkJ4HtwW"
      },
      "source": [
        "**Split the dataset in training set and test set**"
      ]
    },
    {
      "cell_type": "code",
      "metadata": {
        "id": "NWxl2arjH5hC"
      },
      "source": [
        "from sklearn.model_selection import train_test_split\n",
        "x_train,x_test,y_train,y_test= train_test_split(x,y,test_size=0.2)"
      ],
      "execution_count": 81,
      "outputs": []
    },
    {
      "cell_type": "markdown",
      "metadata": {
        "id": "sRDdCZna_9gC"
      },
      "source": [
        "**Show the dataset**"
      ]
    },
    {
      "cell_type": "code",
      "metadata": {
        "colab": {
          "base_uri": "https://localhost:8080/",
          "height": 278
        },
        "id": "lufYKE58AEfG",
        "outputId": "c4c3bb04-2986-4ae5-f8ec-6c6a14eb0335"
      },
      "source": [
        "%matplotlib inline\n",
        "plt.plot(x,y)\n",
        "plt.show()"
      ],
      "execution_count": 82,
      "outputs": [
        {
          "output_type": "display_data",
          "data": {
            "image/png": "[encoded data removed]",
            "text/plain": [
              "<Figure size 432x288 with 1 Axes>"
            ]
          },
          "metadata": {
            "tags": [],
            "needs_background": "light"
          }
        }
      ]
    },
    {
      "cell_type": "markdown",
      "metadata": {
        "id": "gI1fMzP0-mhD"
      },
      "source": [
        "**Train the model on train set**"
      ]
    },
    {
      "cell_type": "code",
      "metadata": {
        "id": "rKtTDDwY-uX7",
        "colab": {
          "base_uri": "https://localhost:8080/"
        },
        "outputId": "f5edc1c2-09cd-4de0-b680-e64f2f66defc"
      },
      "source": [
        "model= LinearRegression()\n",
        "model.fit(x_train,y_train)"
      ],
      "execution_count": 18,
      "outputs": [
        {
          "output_type": "execute_result",
          "data": {
            "text/plain": [
              "LinearRegression(copy_X=True, fit_intercept=True, n_jobs=None, normalize=False)"
            ]
          },
          "metadata": {
            "tags": []
          },
          "execution_count": 18
        }
      ]
    },
    {
      "cell_type": "markdown",
      "metadata": {
        "id": "U17cBpOvJ4xc"
      },
      "source": [
        "**Predict the test set result**"
      ]
    },
    {
      "cell_type": "code",
      "metadata": {
        "colab": {
          "base_uri": "https://localhost:8080/"
        },
        "id": "JivEc22YB74P",
        "outputId": "465bd8f8-2fa1-42f0-d074-64559c15ba19"
      },
      "source": [
        "y_predicted = model.predict(x_test)\n",
        "print(y_predicted)\n"
      ],
      "execution_count": 20,
      "outputs": [
        {
          "output_type": "stream",
          "text": [
            "[0.0788111  0.43141073 0.22555698 ... 0.03496753 0.40674313 0.40845283]\n"
          ],
          "name": "stdout"
        }
      ]
    },
    {
      "cell_type": "markdown",
      "metadata": {
        "id": "BQ-Lm-IdKQ05"
      },
      "source": [
        "**Evaluate the model**"
      ]
    },
    {
      "cell_type": "code",
      "metadata": {
        "colab": {
          "base_uri": "https://localhost:8080/"
        },
        "id": "xU4ZEMaSKX8n",
        "outputId": "65781459-649e-40e9-c2e1-07aceb5639ce"
      },
      "source": [
        "from sklearn.metrics import  r2_score\n",
        "def mean_absolute_percentage_error(y_true, y_pred): \n",
        "    y_true, y_pred = np.array(y_true), np.array(y_pred)\n",
        "    return np.mean(np.abs((y_true - y_pred) / y_true)) * 100\n",
        "r2_score(y_test,y_predicted)\n"
      ],
      "execution_count": 26,
      "outputs": [
        {
          "output_type": "execute_result",
          "data": {
            "text/plain": [
              "0.9977186920864866"
            ]
          },
          "metadata": {
            "tags": []
          },
          "execution_count": 26
        }
      ]
    },
    {
      "cell_type": "code",
      "metadata": {
        "colab": {
          "base_uri": "https://localhost:8080/"
        },
        "id": "OdTAFp5rOLOW",
        "outputId": "a42642da-2e1b-4805-c664-9d2e16e617fb"
      },
      "source": [
        "print(mean_absolute_percentage_error(y_test,y_predicted))\n",
        "# source: https://www.askpython.com/python/examples/mape-mean-absolute-percentage-error"
      ],
      "execution_count": 46,
      "outputs": [
        {
          "output_type": "stream",
          "text": [
            "22.039193197490125\n"
          ],
          "name": "stdout"
        }
      ]
    },
    {
      "cell_type": "markdown",
      "metadata": {
        "id": "hvKGiChHH2RZ"
      },
      "source": [
        "# **Test data3.txt**"
      ]
    },
    {
      "cell_type": "markdown",
      "metadata": {
        "id": "mcXlFrt1H73S"
      },
      "source": [
        "READ AND ... DATA"
      ]
    },
    {
      "cell_type": "code",
      "metadata": {
        "id": "W9CId47FHKKN",
        "colab": {
          "base_uri": "https://localhost:8080/",
          "height": 195
        },
        "outputId": "ba2b02f9-3132-492b-dbbd-0a79bafd8926"
      },
      "source": [
        "data3=pd.read_csv('./data3.txt')\n",
        "data3.head()"
      ],
      "execution_count": 36,
      "outputs": [
        {
          "output_type": "execute_result",
          "data": {
            "text/html": [
              "<div>\n",
              "<style scoped>\n",
              "    .dataframe tbody tr th:only-of-type {\n",
              "        vertical-align: middle;\n",
              "    }\n",
              "\n",
              "    .dataframe tbody tr th {\n",
              "        vertical-align: top;\n",
              "    }\n",
              "\n",
              "    .dataframe thead th {\n",
              "        text-align: right;\n",
              "    }\n",
              "</style>\n",
              "<table border=\"1\" class=\"dataframe\">\n",
              "  <thead>\n",
              "    <tr style=\"text-align: right;\">\n",
              "      <th></th>\n",
              "      <th>A</th>\n",
              "      <th>B</th>\n",
              "    </tr>\n",
              "  </thead>\n",
              "  <tbody>\n",
              "    <tr>\n",
              "      <th>0</th>\n",
              "      <td>37837612</td>\n",
              "      <td>4.12166</td>\n",
              "    </tr>\n",
              "    <tr>\n",
              "      <th>1</th>\n",
              "      <td>37395246</td>\n",
              "      <td>3.92089</td>\n",
              "    </tr>\n",
              "    <tr>\n",
              "      <th>2</th>\n",
              "      <td>36610827</td>\n",
              "      <td>3.21540</td>\n",
              "    </tr>\n",
              "    <tr>\n",
              "      <th>3</th>\n",
              "      <td>29555651</td>\n",
              "      <td>2.54506</td>\n",
              "    </tr>\n",
              "    <tr>\n",
              "      <th>4</th>\n",
              "      <td>25928216</td>\n",
              "      <td>2.21831</td>\n",
              "    </tr>\n",
              "  </tbody>\n",
              "</table>\n",
              "</div>"
            ],
            "text/plain": [
              "          A        B\n",
              "0  37837612  4.12166\n",
              "1  37395246  3.92089\n",
              "2  36610827  3.21540\n",
              "3  29555651  2.54506\n",
              "4  25928216  2.21831"
            ]
          },
          "metadata": {
            "tags": []
          },
          "execution_count": 36
        }
      ]
    },
    {
      "cell_type": "code",
      "metadata": {
        "colab": {
          "base_uri": "https://localhost:8080/"
        },
        "id": "o0OAenuTS6NE",
        "outputId": "f82b67a3-ed2a-460d-b750-0256a8d4fa12"
      },
      "source": [
        "x_data3=np.array(data3['A']).reshape(-1,1)\n",
        "y_data3=np.array(data3['B'])\n",
        "print(x_data3)"
      ],
      "execution_count": 39,
      "outputs": [
        {
          "output_type": "stream",
          "text": [
            "[[37837612]\n",
            " [37395246]\n",
            " [36610827]\n",
            " ...\n",
            " [33520323]\n",
            " [21243264]\n",
            " [21380484]]\n"
          ],
          "name": "stdout"
        }
      ]
    },
    {
      "cell_type": "code",
      "metadata": {
        "colab": {
          "base_uri": "https://localhost:8080/"
        },
        "id": "-2wPNL5ZTDQs",
        "outputId": "fdbe6e12-9794-45ef-f919-98e1c9da1a53"
      },
      "source": [
        "print(y_data3)"
      ],
      "execution_count": 40,
      "outputs": [
        {
          "output_type": "stream",
          "text": [
            "[4.12166 3.92089 3.2154  ... 2.90918 1.80292 1.82795]\n"
          ],
          "name": "stdout"
        }
      ]
    },
    {
      "cell_type": "code",
      "metadata": {
        "colab": {
          "base_uri": "https://localhost:8080/",
          "height": 278
        },
        "id": "O2QUHXjQIBEL",
        "outputId": "3a23b04a-34ea-481a-9c75-d30080107ffe"
      },
      "source": [
        "plt.plot(x_data3,y_data3)\n",
        "plt.show()"
      ],
      "execution_count": 41,
      "outputs": [
        {
          "output_type": "display_data",
          "data": {
            "image/png": "[encoded data removed]",
            "text/plain": [
              "<Figure size 432x288 with 1 Axes>"
            ]
          },
          "metadata": {
            "tags": [],
            "needs_background": "light"
          }
        }
      ]
    },
    {
      "cell_type": "markdown",
      "metadata": {
        "id": "4yzSXdo_TPnZ"
      },
      "source": [
        "**Predict the test set result**"
      ]
    },
    {
      "cell_type": "code",
      "metadata": {
        "colab": {
          "base_uri": "https://localhost:8080/"
        },
        "id": "pGe5LgtITRJ0",
        "outputId": "53b17899-f33b-4981-c7eb-b5156ab2bd7a"
      },
      "source": [
        "y_predicted_data3=model.predict(x_data3)\n",
        "print(y_predicted_data3)"
      ],
      "execution_count": 43,
      "outputs": [
        {
          "output_type": "stream",
          "text": [
            "[3.18392786 3.14651817 3.08018199 ... 2.81882648 1.78058899 1.79219332]\n"
          ],
          "name": "stdout"
        }
      ]
    },
    {
      "cell_type": "code",
      "metadata": {
        "colab": {
          "base_uri": "https://localhost:8080/"
        },
        "id": "CSQEndRZTynP",
        "outputId": "a541d386-e060-4f0c-f882-512b6d06b136"
      },
      "source": [
        "r2_score(y_data3,y_predicted_data3)"
      ],
      "execution_count": 44,
      "outputs": [
        {
          "output_type": "execute_result",
          "data": {
            "text/plain": [
              "0.9286940615655543"
            ]
          },
          "metadata": {
            "tags": []
          },
          "execution_count": 44
        }
      ]
    },
    {
      "cell_type": "code",
      "metadata": {
        "colab": {
          "base_uri": "https://localhost:8080/"
        },
        "id": "VBwVd5CtUA-Q",
        "outputId": "9e75ef46-1512-486b-939c-e45340a2e6a4"
      },
      "source": [
        "print(mean_absolute_percentage_error(y_data3,y_predicted_data3))"
      ],
      "execution_count": 45,
      "outputs": [
        {
          "output_type": "stream",
          "text": [
            "4.409327016531241\n"
          ],
          "name": "stdout"
        }
      ]
    },
    {
      "cell_type": "markdown",
      "metadata": {
        "id": "Vk6LsBIZIhts"
      },
      "source": [
        "# **Test data4.txt**"
      ]
    },
    {
      "cell_type": "code",
      "metadata": {
        "id": "Y08gP_oGIpIC"
      },
      "source": [
        "data4=pd.read_csv('./data4.txt')\n",
        "x_data4=np.array(data4['A']).reshape(-1,1)\n",
        "y_data4=np.array(data4['B'])"
      ],
      "execution_count": null,
      "outputs": []
    },
    {
      "cell_type": "code",
      "metadata": {
        "colab": {
          "base_uri": "https://localhost:8080/",
          "height": 278
        },
        "id": "jUwEfBDmI156",
        "outputId": "05c89d48-eee5-463f-b481-c053ebc9bd4c"
      },
      "source": [
        "plt.plot(x_data4,y_data4)\n",
        "plt.show()"
      ],
      "execution_count": null,
      "outputs": [
        {
          "output_type": "display_data",
          "data": {
            "image/png": "[encoded data removed]",
            "text/plain": [
              "<Figure size 432x288 with 1 Axes>"
            ]
          },
          "metadata": {
            "tags": [],
            "needs_background": "light"
          }
        }
      ]
    },
    {
      "cell_type": "code",
      "metadata": {
        "id": "K0JWYd-WhdYM",
        "outputId": "a4dd12be-fa28-457b-ff4c-7bcf9375ef34",
        "colab": {
          "base_uri": "https://localhost:8080/"
        }
      },
      "source": [
        "!curl https://raw.githubusercontent.com/19522224/CS114.L21/master/data2.txt > ADREADME.txt"
      ],
      "execution_count": 75,
      "outputs": [
        {
          "output_type": "stream",
          "text": [
            "  % Total    % Received % Xferd  Average Speed   Time    Time     Time  Current\n",
            "                                 Dload  Upload   Total   Spent    Left  Speed\n",
            "100 1175k  100 1175k    0     0  2365k      0 --:--:-- --:--:-- --:--:-- 2365k\n"
          ],
          "name": "stdout"
        }
      ]
    }
  ]
}