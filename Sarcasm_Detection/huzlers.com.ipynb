{
  "nbformat": 4,
  "nbformat_minor": 0,
  "metadata": {
    "colab": {
      "name": "Untitled5.ipynb",
      "provenance": [],
      "include_colab_link": true
    },
    "kernelspec": {
      "name": "python3",
      "display_name": "Python 3"
    },
    "language_info": {
      "name": "python"
    }
  },
  "cells": [
    {
      "cell_type": "markdown",
      "metadata": {
        "id": "view-in-github",
        "colab_type": "text"
      },
      "source": [
        "<a href=\"https://colab.research.google.com/github/19522224/CS114.L21/blob/master/Sarcasm_Detection/huzlers.com.ipynb\" target=\"_parent\"><img src=\"https://colab.research.google.com/assets/colab-badge.svg\" alt=\"Open In Colab\"/></a>"
      ]
    },
    {
      "cell_type": "markdown",
      "metadata": {
        "id": "tDrNzG9noXSz"
      },
      "source": [
        "# **Code**"
      ]
    },
    {
      "cell_type": "markdown",
      "metadata": {
        "id": "pwhQ7LEhobqS"
      },
      "source": [
        "## **Thêm thư viện**"
      ]
    },
    {
      "cell_type": "code",
      "metadata": {
        "id": "kXua330_oKAQ"
      },
      "source": [
        "import requests\n",
        "import lxml\n",
        "from bs4 import BeautifulSoup\n",
        "import pandas as pd\n",
        "import numpy as np\n",
        "import csv\n"
      ],
      "execution_count": 26,
      "outputs": []
    },
    {
      "cell_type": "markdown",
      "metadata": {
        "id": "qebwwcm_oe1L"
      },
      "source": [
        "### **Format Dataset**"
      ]
    },
    {
      "cell_type": "code",
      "metadata": {
        "id": "ymPM7p5hof3J"
      },
      "source": [
        "is_sarcastic=[] # 0 or 1\n",
        "headline=[] #headline\n",
        "article_link=[]  #url"
      ],
      "execution_count": 27,
      "outputs": []
    },
    {
      "cell_type": "markdown",
      "metadata": {
        "id": "FRsfeo9QohgQ"
      },
      "source": [
        "## **Hàm requests tới website**"
      ]
    },
    {
      "cell_type": "markdown",
      "metadata": {
        "id": "-jOJOJ0vojdB"
      },
      "source": [
        "### Mô phỏng thông tin tiêu đề của trình duyệt để tránh bị chặn khi gửi yêu cầu tới trang web nhiều lần."
      ]
    },
    {
      "cell_type": "code",
      "metadata": {
        "id": "GaDWZhoIokoc"
      },
      "source": [
        "def requests_to_website(url):\n",
        "  headers = {\n",
        "    'User-Agent': 'Mozilla/5.0 (Windows NT 6.1; WOW64) AppleWebKit/537.36 (KHTML, like Gecko) Chrome/63.0.3239.132 Safari/537.36 QIHU 360SE'\n",
        "  }\n",
        "  return  requests.get(url, headers = headers)\n"
      ],
      "execution_count": 28,
      "outputs": []
    },
    {
      "cell_type": "markdown",
      "metadata": {
        "id": "quGcr6GlomUX"
      },
      "source": [
        "### **Hàm phân tích cú pháp trang**\n"
      ]
    },
    {
      "cell_type": "code",
      "metadata": {
        "id": "UAEiPddWonQl"
      },
      "source": [
        "def parser_website(r):\n",
        "  #tạo một đối tượng BeautifulSoup và chỉ định trình phân tích cú pháp là lxml\n",
        "  return BeautifulSoup(r.content,'lxml')"
      ],
      "execution_count": 29,
      "outputs": []
    },
    {
      "cell_type": "markdown",
      "metadata": {
        "id": "S23v__yoos8K"
      },
      "source": [
        "### **Hàm lấy các thẻ**"
      ]
    },
    {
      "cell_type": "code",
      "metadata": {
        "id": "B279xAHxovFm"
      },
      "source": [
        "def get_tag(r):\n",
        "  return parser_website(r).find('ul',class_=\"g1-collection-items\").find_all('a',class_=\"g1-frame\")"
      ],
      "execution_count": 30,
      "outputs": []
    },
    {
      "cell_type": "markdown",
      "metadata": {
        "id": "v6iG_DmEoxM7"
      },
      "source": [
        "### **Hàm kiểm tra năm**\n"
      ]
    },
    {
      "cell_type": "code",
      "metadata": {
        "id": "rHWgnGnXo2NC"
      },
      "source": [
        "#def check_year(year,tag):\n",
        " # t=tag.find('time',class_='entry-date')['datetime'][:11]\n",
        "  #t=int(t[:4])\n",
        "  #if t<year-2:    # lấy giá trị datetime trong thẻ time và có class='entry-data'. sau đó lấy 4 kí tự đầu và chuyển về kiểu int thì được năm đăng bài viết\n",
        "   # return False\n",
        "  #return True"
      ],
      "execution_count": 31,
      "outputs": []
    },
    {
      "cell_type": "markdown",
      "metadata": {
        "id": "784WzriPo3OO"
      },
      "source": [
        "### **Hàm trích xuất các dữ liệu cần thiết**"
      ]
    },
    {
      "cell_type": "code",
      "metadata": {
        "id": "QPCeRMsio4OT"
      },
      "source": [
        "def extract_data(hl,link,kind,r):\n",
        "  tag=get_tag(r)\n",
        "  for i in tag:\n",
        "    link.append(i['href']) # lấy url thêm vào mảng\n",
        "    hl.append(i['title'])  # lọc tiêu đề\n",
        "    kind.append(1) # gán nhãn\n",
        "\n",
        "    "
      ],
      "execution_count": 32,
      "outputs": []
    },
    {
      "cell_type": "markdown",
      "metadata": {
        "id": "1NRl-9j-o5R6"
      },
      "source": [
        "### **Hàm ghi file**"
      ]
    },
    {
      "cell_type": "code",
      "metadata": {
        "id": "yaMR9D4fo6Kz"
      },
      "source": [
        "import json\n",
        "def Write_file(hl,link,kind,fileName):\n",
        "  with open(fileName,'w',encoding ='utf8') as outfile:\n",
        "    for i in range(len(hl)):\n",
        "      root={\"article_link\":link[i],\"headline\":hl[i],\"is_sarcastic\":kind[i]}\n",
        "      json.dump(root, outfile)\n",
        "      outfile.writelines('\\n')\n"
      ],
      "execution_count": 33,
      "outputs": []
    },
    {
      "cell_type": "markdown",
      "metadata": {
        "id": "I3BX1nPPo7ZD"
      },
      "source": [
        "# Main"
      ]
    },
    {
      "cell_type": "code",
      "metadata": {
        "colab": {
          "base_uri": "https://localhost:8080/"
        },
        "id": "EOHUZdAyPSQO",
        "outputId": "966f8092-b162-4c92-db1a-810e089a1071"
      },
      "source": [
        "n=1\n",
        "while True:\n",
        "      url = 'https://www.huzlers.com/page/{}/'.format(str(n))\n",
        "      n=n+1\n",
        "      r=requests_to_website(url)\n",
        "      print('\\n',url)\n",
        "      print('\\t',r.status_code)\n",
        "      if r.status_code==404:\n",
        "        break\n",
        "      extract_data(headline,article_link,is_sarcastic,r)"
      ],
      "execution_count": 34,
      "outputs": [
        {
          "output_type": "stream",
          "text": [
            "\n",
            " https://www.huzlers.com/page/1/\n",
            "\t 200\n",
            "\n",
            " https://www.huzlers.com/page/2/\n",
            "\t 200\n",
            "\n",
            " https://www.huzlers.com/page/3/\n",
            "\t 200\n",
            "\n",
            " https://www.huzlers.com/page/4/\n",
            "\t 200\n",
            "\n",
            " https://www.huzlers.com/page/5/\n",
            "\t 200\n",
            "\n",
            " https://www.huzlers.com/page/6/\n",
            "\t 200\n",
            "\n",
            " https://www.huzlers.com/page/7/\n",
            "\t 200\n",
            "\n",
            " https://www.huzlers.com/page/8/\n",
            "\t 200\n",
            "\n",
            " https://www.huzlers.com/page/9/\n",
            "\t 200\n",
            "\n",
            " https://www.huzlers.com/page/10/\n",
            "\t 200\n",
            "\n",
            " https://www.huzlers.com/page/11/\n",
            "\t 200\n",
            "\n",
            " https://www.huzlers.com/page/12/\n",
            "\t 404\n"
          ],
          "name": "stdout"
        }
      ]
    },
    {
      "cell_type": "code",
      "metadata": {
        "id": "uu9YsYFBo9cX",
        "colab": {
          "base_uri": "https://localhost:8080/"
        },
        "outputId": "3cf5009a-f557-433b-bafd-52ce01072292"
      },
      "source": [
        "len(headline)  # check số headline đc scrape"
      ],
      "execution_count": 35,
      "outputs": [
        {
          "output_type": "execute_result",
          "data": {
            "text/plain": [
              "698"
            ]
          },
          "metadata": {
            "tags": []
          },
          "execution_count": 35
        }
      ]
    },
    {
      "cell_type": "code",
      "metadata": {
        "id": "gbglfAJvo-J8"
      },
      "source": [
        "Write_file(headline,article_link,is_sarcastic,'huzlers.com.json')"
      ],
      "execution_count": 36,
      "outputs": []
    }
  ]
}