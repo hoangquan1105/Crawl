{
  "nbformat": 4,
  "nbformat_minor": 0,
  "metadata": {
    "colab": {
      "name": "Untitled4.ipynb",
      "provenance": [],
      "collapsed_sections": [],
      "include_colab_link": true
    },
    "kernelspec": {
      "display_name": "Python 3",
      "name": "python3"
    },
    "language_info": {
      "name": "python"
    }
  },
  "cells": [
    {
      "cell_type": "markdown",
      "metadata": {
        "id": "view-in-github",
        "colab_type": "text"
      },
      "source": [
        "<a href=\"https://colab.research.google.com/github/19522224/CS114.L21/blob/master/Sarcasm_Detection/thedailybeast.com.ipynb\" target=\"_parent\"><img src=\"https://colab.research.google.com/assets/colab-badge.svg\" alt=\"Open In Colab\"/></a>"
      ]
    },
    {
      "cell_type": "markdown",
      "metadata": {
        "id": "VPJYxloz9Lrs"
      },
      "source": [
        "# **Code**"
      ]
    },
    {
      "cell_type": "markdown",
      "metadata": {
        "id": "kGIMSTZX9Qj2"
      },
      "source": [
        "## **Thêm thư viện**"
      ]
    },
    {
      "cell_type": "code",
      "metadata": {
        "id": "KAKmDhyl9ZvM"
      },
      "source": [
        "import requests\n",
        "import lxml\n",
        "from bs4 import BeautifulSoup\n",
        "import pandas as pd\n",
        "import numpy as np\n",
        "import csv\n"
      ],
      "execution_count": 71,
      "outputs": []
    },
    {
      "cell_type": "markdown",
      "metadata": {
        "id": "W2nS1AqP9d2m"
      },
      "source": [
        "### **Format Dataset**"
      ]
    },
    {
      "cell_type": "code",
      "metadata": {
        "id": "wFbDrFp29dTb"
      },
      "source": [
        "is_sarcastic=[] # 0 or 1\n",
        "headline=[] #headline\n",
        "article_link=[]  #url"
      ],
      "execution_count": 72,
      "outputs": []
    },
    {
      "cell_type": "markdown",
      "metadata": {
        "id": "R5lJkl0M9hW5"
      },
      "source": [
        "## **Hàm requests tới website**"
      ]
    },
    {
      "cell_type": "markdown",
      "metadata": {
        "id": "9IZZ11oo9l72"
      },
      "source": [
        "### Mô phỏng thông tin tiêu đề của trình duyệt để tránh bị chặn khi gửi yêu cầu tới trang web nhiều lần."
      ]
    },
    {
      "cell_type": "code",
      "metadata": {
        "id": "VHqM2p5Y9i1Q"
      },
      "source": [
        "def requests_to_website(url):\n",
        "  headers = {\n",
        "    'User-Agent': 'Mozilla/5.0 (Windows NT 6.1; WOW64) AppleWebKit/537.36 (KHTML, like Gecko) Chrome/63.0.3239.132 Safari/537.36 QIHU 360SE'\n",
        "  }\n",
        "  return requests.get(url, headers = headers)\n",
        "  \n"
      ],
      "execution_count": 73,
      "outputs": []
    },
    {
      "cell_type": "code",
      "metadata": {
        "id": "LVEIXiqjKfJk"
      },
      "source": [
        "\n",
        "def parser_website(r):\n",
        "  #tạo một đối tượng BeautifulSoup và chỉ định trình phân tích cú pháp là lxml\n",
        "  return BeautifulSoup(r.content,'lxml')"
      ],
      "execution_count": 74,
      "outputs": []
    },
    {
      "cell_type": "markdown",
      "metadata": {
        "id": "QF20tn1-90eZ"
      },
      "source": [
        "## **Hàm lấy các thẻ**"
      ]
    },
    {
      "cell_type": "code",
      "metadata": {
        "id": "16S3BFRe93Lt"
      },
      "source": [
        "def get_tag(r):\n",
        "  return parser_website(r).find('div',class_=\"SitemapMonthPage__articles-wrapper\").find_all('a')"
      ],
      "execution_count": 75,
      "outputs": []
    },
    {
      "cell_type": "markdown",
      "metadata": {
        "id": "Y1RPn_HV951r"
      },
      "source": [
        "## **Hàm kiểm tra năm**"
      ]
    },
    {
      "cell_type": "code",
      "metadata": {
        "id": "I0kzVTtj98SW"
      },
      "source": [
        "def check_year(year,tag):\n",
        "  t=tag.find('time',class_='time')['datetime'][:11]\n",
        "  t=int(t[:4])\n",
        "  if t<year-2:    # lấy giá trị datetime trong thẻ time và có class='entry-data'. sau đó lấy 4 kí tự đầu và chuyển về kiểu int thì được năm đăng bài viết\n",
        "    return False\n",
        "  return True"
      ],
      "execution_count": 76,
      "outputs": []
    },
    {
      "cell_type": "markdown",
      "metadata": {
        "id": "0ZT-O-4i9900"
      },
      "source": [
        "## **Hàm trích xuất các dữ liệu cần thiết**"
      ]
    },
    {
      "cell_type": "code",
      "metadata": {
        "id": "V1kP3M669_dw"
      },
      "source": [
        "def extract_data(hl,link,kind,r):\n",
        "  tag=get_tag(r)\n",
        "  for i in tag:\n",
        "    link.append(i['href']) # lấy url thêm vào mảng\n",
        "    hl.append(i.get_text().strip('\\n')) # lọc tiêu đề\n",
        "    kind.append(0) # gán nhãn\n",
        "\n",
        "    "
      ],
      "execution_count": 77,
      "outputs": []
    },
    {
      "cell_type": "markdown",
      "metadata": {
        "id": "08tqPvZ5-BIR"
      },
      "source": [
        "## **Hàm ghi file**"
      ]
    },
    {
      "cell_type": "code",
      "metadata": {
        "id": "_X4ICbd0-CM6"
      },
      "source": [
        "import pandas as pd\n",
        "def Write_file(hl,link,kind,fileName):\n",
        "  data=pd.DataFrame(columns=['headline','article_link','is_sarcastic'])\n",
        "  data['headline']=hl\n",
        "  data['article_link']=link\n",
        "  data['is_sarcastic']=kind\n",
        "  data.to_csv(fileName,index=False,encoding='utf-8')\n"
      ],
      "execution_count": 78,
      "outputs": []
    },
    {
      "cell_type": "markdown",
      "metadata": {
        "id": "XxZdV3Ti-DsA"
      },
      "source": [
        "## Main"
      ]
    },
    {
      "cell_type": "code",
      "metadata": {
        "id": "V1WUFvc8TwNj"
      },
      "source": [
        "month=['12','11','10','9','8','7','6','5','4','3','2','1']\n",
        "year=['2021','2020','2019']\n"
      ],
      "execution_count": 79,
      "outputs": []
    },
    {
      "cell_type": "code",
      "metadata": {
        "colab": {
          "base_uri": "https://localhost:8080/"
        },
        "id": "ztMRbAK8VRQk",
        "outputId": "7d9f9a6d-c3c6-4032-df97-44c1302d9d0c"
      },
      "source": [
        "for y in year:\n",
        "  for m in month:\n",
        "      n=1\n",
        "      url='https://www.thedailybeast.com/sitemap/{}/{}/article'.format(y,m)\n",
        "      if n>1:\n",
        "        url=url+str(n)\n",
        "      n=n+1\n",
        "      r=requests_to_website(url)\n",
        "      print('\\n',url)\n",
        "      print('\\t',r.status_code)\n",
        "      if r.status_code==404:\n",
        "        break\n",
        "      extract_data(headline,article_link,is_sarcastic,r)"
      ],
      "execution_count": 80,
      "outputs": [
        {
          "output_type": "stream",
          "text": [
            "\n",
            " https://www.thedailybeast.com/sitemap/2021/12/article\n",
            "\t 200\n",
            "\n",
            " https://www.thedailybeast.com/sitemap/2021/11/article\n",
            "\t 200\n",
            "\n",
            " https://www.thedailybeast.com/sitemap/2021/10/article\n",
            "\t 200\n",
            "\n",
            " https://www.thedailybeast.com/sitemap/2021/9/article\n",
            "\t 200\n",
            "\n",
            " https://www.thedailybeast.com/sitemap/2021/8/article\n",
            "\t 200\n",
            "\n",
            " https://www.thedailybeast.com/sitemap/2021/7/article\n",
            "\t 200\n",
            "\n",
            " https://www.thedailybeast.com/sitemap/2021/6/article\n",
            "\t 200\n",
            "\n",
            " https://www.thedailybeast.com/sitemap/2021/5/article\n",
            "\t 200\n",
            "\n",
            " https://www.thedailybeast.com/sitemap/2021/4/article\n",
            "\t 200\n",
            "\n",
            " https://www.thedailybeast.com/sitemap/2021/3/article\n",
            "\t 200\n",
            "\n",
            " https://www.thedailybeast.com/sitemap/2021/2/article\n",
            "\t 200\n",
            "\n",
            " https://www.thedailybeast.com/sitemap/2021/1/article\n",
            "\t 200\n",
            "\n",
            " https://www.thedailybeast.com/sitemap/2020/12/article\n",
            "\t 200\n",
            "\n",
            " https://www.thedailybeast.com/sitemap/2020/11/article\n",
            "\t 200\n",
            "\n",
            " https://www.thedailybeast.com/sitemap/2020/10/article\n",
            "\t 200\n",
            "\n",
            " https://www.thedailybeast.com/sitemap/2020/9/article\n",
            "\t 200\n",
            "\n",
            " https://www.thedailybeast.com/sitemap/2020/8/article\n",
            "\t 200\n",
            "\n",
            " https://www.thedailybeast.com/sitemap/2020/7/article\n",
            "\t 200\n",
            "\n",
            " https://www.thedailybeast.com/sitemap/2020/6/article\n",
            "\t 200\n",
            "\n",
            " https://www.thedailybeast.com/sitemap/2020/5/article\n",
            "\t 200\n",
            "\n",
            " https://www.thedailybeast.com/sitemap/2020/4/article\n",
            "\t 200\n",
            "\n",
            " https://www.thedailybeast.com/sitemap/2020/3/article\n",
            "\t 200\n",
            "\n",
            " https://www.thedailybeast.com/sitemap/2020/2/article\n",
            "\t 200\n",
            "\n",
            " https://www.thedailybeast.com/sitemap/2020/1/article\n",
            "\t 200\n",
            "\n",
            " https://www.thedailybeast.com/sitemap/2019/12/article\n",
            "\t 200\n",
            "\n",
            " https://www.thedailybeast.com/sitemap/2019/11/article\n",
            "\t 200\n",
            "\n",
            " https://www.thedailybeast.com/sitemap/2019/10/article\n",
            "\t 200\n",
            "\n",
            " https://www.thedailybeast.com/sitemap/2019/9/article\n",
            "\t 200\n",
            "\n",
            " https://www.thedailybeast.com/sitemap/2019/8/article\n",
            "\t 200\n",
            "\n",
            " https://www.thedailybeast.com/sitemap/2019/7/article\n",
            "\t 200\n",
            "\n",
            " https://www.thedailybeast.com/sitemap/2019/6/article\n",
            "\t 200\n",
            "\n",
            " https://www.thedailybeast.com/sitemap/2019/5/article\n",
            "\t 200\n",
            "\n",
            " https://www.thedailybeast.com/sitemap/2019/4/article\n",
            "\t 200\n",
            "\n",
            " https://www.thedailybeast.com/sitemap/2019/3/article\n",
            "\t 200\n",
            "\n",
            " https://www.thedailybeast.com/sitemap/2019/2/article\n",
            "\t 200\n",
            "\n",
            " https://www.thedailybeast.com/sitemap/2019/1/article\n",
            "\t 200\n"
          ],
          "name": "stdout"
        }
      ]
    },
    {
      "cell_type": "code",
      "metadata": {
        "colab": {
          "base_uri": "https://localhost:8080/"
        },
        "id": "Agbg9XLsYGoq",
        "outputId": "7682ca7b-a447-44ce-ecf4-25452a1bf18b"
      },
      "source": [
        "len(article_link)"
      ],
      "execution_count": 81,
      "outputs": [
        {
          "output_type": "execute_result",
          "data": {
            "text/plain": [
              "25490"
            ]
          },
          "metadata": {
            "tags": []
          },
          "execution_count": 81
        }
      ]
    },
    {
      "cell_type": "code",
      "metadata": {
        "id": "LzkgwaKglVWw"
      },
      "source": [
        "import pandas as pd\n",
        "def Write_file(hl,link,kind,fileName):\n",
        "  data=pd.DataFrame(columns=['headline','article_link','is_sarcastic'])\n",
        "  data['headline']=hl\n",
        "  data['article_link']=link\n",
        "  data['is_sarcastic']=kind\n",
        "  data.to_csv(fileName,index=False)"
      ],
      "execution_count": 82,
      "outputs": []
    },
    {
      "cell_type": "code",
      "metadata": {
        "id": "lNlSHcX1lGEn"
      },
      "source": [
        "Write_file(headline,article_link,is_sarcastic,'thedailybeast.com.csv')"
      ],
      "execution_count": 83,
      "outputs": []
    },
    {
      "cell_type": "code",
      "metadata": {
        "colab": {
          "base_uri": "https://localhost:8080/",
          "height": 359
        },
        "id": "rGDcv9lV_USJ",
        "outputId": "fff2c6e3-c68e-4b45-c031-5d7595292918"
      },
      "source": [
        "df=pd.read_csv('./thedailybeast.com.csv')\n",
        "df.head(10)"
      ],
      "execution_count": 84,
      "outputs": [
        {
          "output_type": "execute_result",
          "data": {
            "text/html": [
              "<div>\n",
              "<style scoped>\n",
              "    .dataframe tbody tr th:only-of-type {\n",
              "        vertical-align: middle;\n",
              "    }\n",
              "\n",
              "    .dataframe tbody tr th {\n",
              "        vertical-align: top;\n",
              "    }\n",
              "\n",
              "    .dataframe thead th {\n",
              "        text-align: right;\n",
              "    }\n",
              "</style>\n",
              "<table border=\"1\" class=\"dataframe\">\n",
              "  <thead>\n",
              "    <tr style=\"text-align: right;\">\n",
              "      <th></th>\n",
              "      <th>headline</th>\n",
              "      <th>article_link</th>\n",
              "      <th>is_sarcastic</th>\n",
              "    </tr>\n",
              "  </thead>\n",
              "  <tbody>\n",
              "    <tr>\n",
              "      <th>0</th>\n",
              "      <td>Jeff Sessions Claims He’s Clueless About His D...</td>\n",
              "      <td>/jeff-sessions-claims-hes-clueless-about-his-d...</td>\n",
              "      <td>0</td>\n",
              "    </tr>\n",
              "    <tr>\n",
              "      <th>1</th>\n",
              "      <td>World’s First COVID Epicenter Italy Kicks Off ...</td>\n",
              "      <td>/worlds-first-covid-epicenter-italy-kicks-off-...</td>\n",
              "      <td>0</td>\n",
              "    </tr>\n",
              "    <tr>\n",
              "      <th>2</th>\n",
              "      <td>Chicago Police Officer Karol J. Chwiesiuk Char...</td>\n",
              "      <td>/chicago-police-officer-karol-j-chwiesiuk-char...</td>\n",
              "      <td>0</td>\n",
              "    </tr>\n",
              "    <tr>\n",
              "      <th>3</th>\n",
              "      <td>Queen Cracks Joke as Royals Descend on G7 to W...</td>\n",
              "      <td>/baby-lilibet-questions-overshadow-the-royals-...</td>\n",
              "      <td>0</td>\n",
              "    </tr>\n",
              "    <tr>\n",
              "      <th>4</th>\n",
              "      <td>Women Get $15M for Lost Eggs and Embryos in Pa...</td>\n",
              "      <td>/women-get-dollar15m-for-lost-eggs-and-embryos...</td>\n",
              "      <td>0</td>\n",
              "    </tr>\n",
              "    <tr>\n",
              "      <th>5</th>\n",
              "      <td>Best New Launches From Kanye West, REI, Floyd,...</td>\n",
              "      <td>/best-new-launches-from-kanye-west-rei-floyd-a...</td>\n",
              "      <td>0</td>\n",
              "    </tr>\n",
              "    <tr>\n",
              "      <th>6</th>\n",
              "      <td>10 Rounds with Actor Josh Holloway</td>\n",
              "      <td>/10-rounds-with-actor-josh-holloway</td>\n",
              "      <td>0</td>\n",
              "    </tr>\n",
              "    <tr>\n",
              "      <th>7</th>\n",
              "      <td>Weber Grill Pan Gift Pick</td>\n",
              "      <td>/weber-grill-pan-gift-pick</td>\n",
              "      <td>0</td>\n",
              "    </tr>\n",
              "    <tr>\n",
              "      <th>8</th>\n",
              "      <td>Biden Can be a Good President or Transform Ame...</td>\n",
              "      <td>/biden-can-be-a-good-president-or-transform-am...</td>\n",
              "      <td>0</td>\n",
              "    </tr>\n",
              "    <tr>\n",
              "      <th>9</th>\n",
              "      <td>Here’s Why Schumer’s Mostly OK With Manchin Bl...</td>\n",
              "      <td>/heres-why-schumers-mostly-ok-with-manchin-blo...</td>\n",
              "      <td>0</td>\n",
              "    </tr>\n",
              "  </tbody>\n",
              "</table>\n",
              "</div>"
            ],
            "text/plain": [
              "                                            headline  ... is_sarcastic\n",
              "0  Jeff Sessions Claims He’s Clueless About His D...  ...            0\n",
              "1  World’s First COVID Epicenter Italy Kicks Off ...  ...            0\n",
              "2  Chicago Police Officer Karol J. Chwiesiuk Char...  ...            0\n",
              "3  Queen Cracks Joke as Royals Descend on G7 to W...  ...            0\n",
              "4  Women Get $15M for Lost Eggs and Embryos in Pa...  ...            0\n",
              "5  Best New Launches From Kanye West, REI, Floyd,...  ...            0\n",
              "6                 10 Rounds with Actor Josh Holloway  ...            0\n",
              "7                          Weber Grill Pan Gift Pick  ...            0\n",
              "8  Biden Can be a Good President or Transform Ame...  ...            0\n",
              "9  Here’s Why Schumer’s Mostly OK With Manchin Bl...  ...            0\n",
              "\n",
              "[10 rows x 3 columns]"
            ]
          },
          "metadata": {
            "tags": []
          },
          "execution_count": 84
        }
      ]
    }
  ]
}