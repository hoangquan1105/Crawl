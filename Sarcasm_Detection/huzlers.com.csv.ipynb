{
  "nbformat": 4,
  "nbformat_minor": 0,
  "metadata": {
    "colab": {
      "name": "Untitled5.ipynb",
      "provenance": [],
      "include_colab_link": true
    },
    "kernelspec": {
      "name": "python3",
      "display_name": "Python 3"
    },
    "language_info": {
      "name": "python"
    }
  },
  "cells": [
    {
      "cell_type": "markdown",
      "metadata": {
        "id": "view-in-github",
        "colab_type": "text"
      },
      "source": [
        "<a href=\"https://colab.research.google.com/github/19522224/CS114.L21/blob/master/Sarcasm_Detection/huzlers.com.csv.ipynb\" target=\"_parent\"><img src=\"https://colab.research.google.com/assets/colab-badge.svg\" alt=\"Open In Colab\"/></a>"
      ]
    },
    {
      "cell_type": "markdown",
      "metadata": {
        "id": "tDrNzG9noXSz"
      },
      "source": [
        "# **Code**"
      ]
    },
    {
      "cell_type": "markdown",
      "metadata": {
        "id": "pwhQ7LEhobqS"
      },
      "source": [
        "## **Thêm thư viện**"
      ]
    },
    {
      "cell_type": "code",
      "metadata": {
        "id": "kXua330_oKAQ"
      },
      "source": [
        "import requests\n",
        "import lxml\n",
        "from bs4 import BeautifulSoup\n",
        "import pandas as pd\n",
        "import numpy as np\n",
        "import csv\n"
      ],
      "execution_count": 40,
      "outputs": []
    },
    {
      "cell_type": "markdown",
      "metadata": {
        "id": "qebwwcm_oe1L"
      },
      "source": [
        "### **Format Dataset**"
      ]
    },
    {
      "cell_type": "code",
      "metadata": {
        "id": "ymPM7p5hof3J"
      },
      "source": [
        "is_sarcastic=[] # 0 or 1\n",
        "headline=[] #headline\n",
        "article_link=[]  #url"
      ],
      "execution_count": 41,
      "outputs": []
    },
    {
      "cell_type": "markdown",
      "metadata": {
        "id": "FRsfeo9QohgQ"
      },
      "source": [
        "## **Hàm requests tới website**"
      ]
    },
    {
      "cell_type": "markdown",
      "metadata": {
        "id": "-jOJOJ0vojdB"
      },
      "source": [
        "### Mô phỏng thông tin tiêu đề của trình duyệt để tránh bị chặn khi gửi yêu cầu tới trang web nhiều lần."
      ]
    },
    {
      "cell_type": "code",
      "metadata": {
        "id": "GaDWZhoIokoc"
      },
      "source": [
        "def requests_to_website(url):\n",
        "  headers = {\n",
        "    'User-Agent': 'Mozilla/5.0 (Windows NT 6.1; WOW64) AppleWebKit/537.36 (KHTML, like Gecko) Chrome/63.0.3239.132 Safari/537.36 QIHU 360SE'\n",
        "  }\n",
        "  return  requests.get(url, headers = headers)\n"
      ],
      "execution_count": 42,
      "outputs": []
    },
    {
      "cell_type": "markdown",
      "metadata": {
        "id": "quGcr6GlomUX"
      },
      "source": [
        "### **Hàm phân tích cú pháp trang**\n"
      ]
    },
    {
      "cell_type": "code",
      "metadata": {
        "id": "UAEiPddWonQl"
      },
      "source": [
        "def parser_website(r):\n",
        "  #tạo một đối tượng BeautifulSoup và chỉ định trình phân tích cú pháp là lxml\n",
        "  return BeautifulSoup(r.content,'lxml')"
      ],
      "execution_count": 43,
      "outputs": []
    },
    {
      "cell_type": "markdown",
      "metadata": {
        "id": "S23v__yoos8K"
      },
      "source": [
        "### **Hàm lấy các thẻ**"
      ]
    },
    {
      "cell_type": "code",
      "metadata": {
        "id": "B279xAHxovFm"
      },
      "source": [
        "def get_tag(r):\n",
        "  return parser_website(r).find('ul',class_=\"g1-collection-items\").find_all('a',class_=\"g1-frame\")"
      ],
      "execution_count": 44,
      "outputs": []
    },
    {
      "cell_type": "markdown",
      "metadata": {
        "id": "v6iG_DmEoxM7"
      },
      "source": [
        "### **Hàm kiểm tra năm**\n"
      ]
    },
    {
      "cell_type": "code",
      "metadata": {
        "id": "rHWgnGnXo2NC"
      },
      "source": [
        "#def check_year(year,tag):\n",
        " # t=tag.find('time',class_='entry-date')['datetime'][:11]\n",
        "  #t=int(t[:4])\n",
        "  #if t<year-2:    # lấy giá trị datetime trong thẻ time và có class='entry-data'. sau đó lấy 4 kí tự đầu và chuyển về kiểu int thì được năm đăng bài viết\n",
        "   # return False\n",
        "  #return True"
      ],
      "execution_count": 45,
      "outputs": []
    },
    {
      "cell_type": "markdown",
      "metadata": {
        "id": "784WzriPo3OO"
      },
      "source": [
        "### **Hàm trích xuất các dữ liệu cần thiết**"
      ]
    },
    {
      "cell_type": "code",
      "metadata": {
        "id": "QPCeRMsio4OT"
      },
      "source": [
        "def extract_data(hl,link,kind,r):\n",
        "  tag=get_tag(r)\n",
        "  for i in tag:\n",
        "    link.append(i['href']) # lấy url thêm vào mảng\n",
        "    hl.append(i['title'])  # lọc tiêu đề\n",
        "    kind.append(1) # gán nhãn\n",
        "\n",
        "    "
      ],
      "execution_count": 46,
      "outputs": []
    },
    {
      "cell_type": "markdown",
      "metadata": {
        "id": "1NRl-9j-o5R6"
      },
      "source": [
        "### **Hàm ghi file**"
      ]
    },
    {
      "cell_type": "code",
      "metadata": {
        "id": "yaMR9D4fo6Kz"
      },
      "source": [
        "import pandas as pd\n",
        "def Write_file(hl,link,kind,fileName):\n",
        "  data=pd.DataFrame(columns=['headline','article_link','is_sarcastic'])\n",
        "  data['headline']=hl\n",
        "  data['article_link']=link\n",
        "  data['is_sarcastic']=kind\n",
        "  data.to_csv(fileName,index=False,encoding='utf-8')\n"
      ],
      "execution_count": 47,
      "outputs": []
    },
    {
      "cell_type": "markdown",
      "metadata": {
        "id": "I3BX1nPPo7ZD"
      },
      "source": [
        "# Main"
      ]
    },
    {
      "cell_type": "code",
      "metadata": {
        "colab": {
          "base_uri": "https://localhost:8080/"
        },
        "id": "EOHUZdAyPSQO",
        "outputId": "90566fab-29ae-4e95-e739-dcc28f21120c"
      },
      "source": [
        "n=1\n",
        "while True:\n",
        "      url = 'https://www.huzlers.com/page/{}/'.format(str(n))\n",
        "      n=n+1\n",
        "      r=requests_to_website(url)\n",
        "      print('\\n',url)\n",
        "      print('\\t',r.status_code)\n",
        "      if r.status_code==404:\n",
        "        break\n",
        "      extract_data(headline,article_link,is_sarcastic,r)"
      ],
      "execution_count": 48,
      "outputs": [
        {
          "output_type": "stream",
          "text": [
            "\n",
            " https://www.huzlers.com/page/1/\n",
            "\t 200\n",
            "\n",
            " https://www.huzlers.com/page/2/\n",
            "\t 200\n",
            "\n",
            " https://www.huzlers.com/page/3/\n",
            "\t 200\n",
            "\n",
            " https://www.huzlers.com/page/4/\n",
            "\t 200\n",
            "\n",
            " https://www.huzlers.com/page/5/\n",
            "\t 200\n",
            "\n",
            " https://www.huzlers.com/page/6/\n",
            "\t 200\n",
            "\n",
            " https://www.huzlers.com/page/7/\n",
            "\t 200\n",
            "\n",
            " https://www.huzlers.com/page/8/\n",
            "\t 200\n",
            "\n",
            " https://www.huzlers.com/page/9/\n",
            "\t 200\n",
            "\n",
            " https://www.huzlers.com/page/10/\n",
            "\t 200\n",
            "\n",
            " https://www.huzlers.com/page/11/\n",
            "\t 200\n",
            "\n",
            " https://www.huzlers.com/page/12/\n",
            "\t 404\n"
          ],
          "name": "stdout"
        }
      ]
    },
    {
      "cell_type": "code",
      "metadata": {
        "id": "uu9YsYFBo9cX",
        "colab": {
          "base_uri": "https://localhost:8080/"
        },
        "outputId": "b7506b09-a35f-49c3-d2dc-cc8f193efb12"
      },
      "source": [
        "len(headline)  # check số headline đc scrape"
      ],
      "execution_count": 49,
      "outputs": [
        {
          "output_type": "execute_result",
          "data": {
            "text/plain": [
              "698"
            ]
          },
          "metadata": {
            "tags": []
          },
          "execution_count": 49
        }
      ]
    },
    {
      "cell_type": "code",
      "metadata": {
        "id": "gbglfAJvo-J8"
      },
      "source": [
        "Write_file(headline,article_link,is_sarcastic,'huzlers.com.csv')"
      ],
      "execution_count": 51,
      "outputs": []
    },
    {
      "cell_type": "code",
      "metadata": {
        "id": "LvpUxBO7o-04"
      },
      "source": [
        "df=pd.read_csv('huzlers.com.csv',encoding='utf-8')"
      ],
      "execution_count": 52,
      "outputs": []
    },
    {
      "cell_type": "code",
      "metadata": {
        "id": "gS7sBMtgo_fG",
        "colab": {
          "base_uri": "https://localhost:8080/",
          "height": 359
        },
        "outputId": "7de80813-b136-47f7-ae06-112b08ef8eb6"
      },
      "source": [
        "df.head(10)"
      ],
      "execution_count": 53,
      "outputs": [
        {
          "output_type": "execute_result",
          "data": {
            "text/html": [
              "<div>\n",
              "<style scoped>\n",
              "    .dataframe tbody tr th:only-of-type {\n",
              "        vertical-align: middle;\n",
              "    }\n",
              "\n",
              "    .dataframe tbody tr th {\n",
              "        vertical-align: top;\n",
              "    }\n",
              "\n",
              "    .dataframe thead th {\n",
              "        text-align: right;\n",
              "    }\n",
              "</style>\n",
              "<table border=\"1\" class=\"dataframe\">\n",
              "  <thead>\n",
              "    <tr style=\"text-align: right;\">\n",
              "      <th></th>\n",
              "      <th>headline</th>\n",
              "      <th>article_link</th>\n",
              "      <th>is_sarcastic</th>\n",
              "    </tr>\n",
              "  </thead>\n",
              "  <tbody>\n",
              "    <tr>\n",
              "      <th>0</th>\n",
              "      <td>Online Gambling Trends to Follow in 2021</td>\n",
              "      <td>https://www.huzlers.com/online-gambling-trends...</td>\n",
              "      <td>1</td>\n",
              "    </tr>\n",
              "    <tr>\n",
              "      <th>1</th>\n",
              "      <td>Extraterrestrials Exist, And Trump Knows About It</td>\n",
              "      <td>https://www.huzlers.com/extraterrestrials-exis...</td>\n",
              "      <td>1</td>\n",
              "    </tr>\n",
              "    <tr>\n",
              "      <th>2</th>\n",
              "      <td>Canada’s Casino Industry Continues To Soar</td>\n",
              "      <td>https://www.huzlers.com/canadas-casino-industr...</td>\n",
              "      <td>1</td>\n",
              "    </tr>\n",
              "    <tr>\n",
              "      <th>3</th>\n",
              "      <td>Are you Toxic In Your Relationship?</td>\n",
              "      <td>https://www.huzlers.com/quiz/are-you-toxic-in-...</td>\n",
              "      <td>1</td>\n",
              "    </tr>\n",
              "    <tr>\n",
              "      <th>4</th>\n",
              "      <td>Florida Woman Shoplifts Bomb Ingredients At Wa...</td>\n",
              "      <td>https://www.huzlers.com/florida-woman-shoplift...</td>\n",
              "      <td>1</td>\n",
              "    </tr>\n",
              "    <tr>\n",
              "      <th>5</th>\n",
              "      <td>Scientists Discover New HIV Strain, That Explo...</td>\n",
              "      <td>https://www.huzlers.com/scientists-discover-ne...</td>\n",
              "      <td>1</td>\n",
              "    </tr>\n",
              "    <tr>\n",
              "      <th>6</th>\n",
              "      <td>Rapper Juice WRLD Dead At 21 After Suffering S...</td>\n",
              "      <td>https://www.huzlers.com/rapper-juice-wrld-dead...</td>\n",
              "      <td>1</td>\n",
              "    </tr>\n",
              "    <tr>\n",
              "      <th>7</th>\n",
              "      <td>The Importance of Tolerance and Respect in the...</td>\n",
              "      <td>https://www.huzlers.com/the-importance-of-tole...</td>\n",
              "      <td>1</td>\n",
              "    </tr>\n",
              "    <tr>\n",
              "      <th>8</th>\n",
              "      <td>Popeyes Ranked As America’s Most Dangerous Wor...</td>\n",
              "      <td>https://www.huzlers.com/popeyes-ranked-as-amer...</td>\n",
              "      <td>1</td>\n",
              "    </tr>\n",
              "    <tr>\n",
              "      <th>9</th>\n",
              "      <td>Bryson Tiller Says Summer Walker “Stank Like D...</td>\n",
              "      <td>https://www.huzlers.com/bryson-tiller-says-sum...</td>\n",
              "      <td>1</td>\n",
              "    </tr>\n",
              "  </tbody>\n",
              "</table>\n",
              "</div>"
            ],
            "text/plain": [
              "                                            headline  ... is_sarcastic\n",
              "0           Online Gambling Trends to Follow in 2021  ...            1\n",
              "1  Extraterrestrials Exist, And Trump Knows About It  ...            1\n",
              "2         Canada’s Casino Industry Continues To Soar  ...            1\n",
              "3                Are you Toxic In Your Relationship?  ...            1\n",
              "4  Florida Woman Shoplifts Bomb Ingredients At Wa...  ...            1\n",
              "5  Scientists Discover New HIV Strain, That Explo...  ...            1\n",
              "6  Rapper Juice WRLD Dead At 21 After Suffering S...  ...            1\n",
              "7  The Importance of Tolerance and Respect in the...  ...            1\n",
              "8  Popeyes Ranked As America’s Most Dangerous Wor...  ...            1\n",
              "9  Bryson Tiller Says Summer Walker “Stank Like D...  ...            1\n",
              "\n",
              "[10 rows x 3 columns]"
            ]
          },
          "metadata": {
            "tags": []
          },
          "execution_count": 53
        }
      ]
    }
  ]
}