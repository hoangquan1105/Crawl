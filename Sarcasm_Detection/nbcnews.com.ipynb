{
  "nbformat": 4,
  "nbformat_minor": 0,
  "metadata": {
    "colab": {
      "name": "Untitled4.ipynb",
      "provenance": [],
      "collapsed_sections": [],
      "include_colab_link": true
    },
    "kernelspec": {
      "display_name": "Python 3",
      "name": "python3"
    },
    "language_info": {
      "name": "python"
    }
  },
  "cells": [
    {
      "cell_type": "markdown",
      "metadata": {
        "id": "view-in-github",
        "colab_type": "text"
      },
      "source": [
        "<a href=\"https://colab.research.google.com/github/19522224/CS114.L21/blob/master/Sarcasm_Detection/nbcnews.com.ipynb\" target=\"_parent\"><img src=\"https://colab.research.google.com/assets/colab-badge.svg\" alt=\"Open In Colab\"/></a>"
      ]
    },
    {
      "cell_type": "markdown",
      "metadata": {
        "id": "VPJYxloz9Lrs"
      },
      "source": [
        "# **Code**"
      ]
    },
    {
      "cell_type": "markdown",
      "metadata": {
        "id": "kGIMSTZX9Qj2"
      },
      "source": [
        "## **Thêm thư viện**"
      ]
    },
    {
      "cell_type": "code",
      "metadata": {
        "id": "KAKmDhyl9ZvM"
      },
      "source": [
        "import requests\n",
        "import lxml\n",
        "from bs4 import BeautifulSoup\n",
        "import pandas as pd\n",
        "import numpy as np\n",
        "import csv\n"
      ],
      "execution_count": 47,
      "outputs": []
    },
    {
      "cell_type": "markdown",
      "metadata": {
        "id": "W2nS1AqP9d2m"
      },
      "source": [
        "### **Format Dataset**"
      ]
    },
    {
      "cell_type": "code",
      "metadata": {
        "id": "wFbDrFp29dTb"
      },
      "source": [
        "is_sarcastic=[] # 0 or 1\n",
        "headline=[] #headline\n",
        "article_link=[]  #url"
      ],
      "execution_count": 48,
      "outputs": []
    },
    {
      "cell_type": "markdown",
      "metadata": {
        "id": "R5lJkl0M9hW5"
      },
      "source": [
        "## **Hàm requests tới website**"
      ]
    },
    {
      "cell_type": "markdown",
      "metadata": {
        "id": "9IZZ11oo9l72"
      },
      "source": [
        "### Mô phỏng thông tin tiêu đề của trình duyệt để tránh bị chặn khi gửi yêu cầu tới trang web nhiều lần."
      ]
    },
    {
      "cell_type": "code",
      "metadata": {
        "id": "VHqM2p5Y9i1Q"
      },
      "source": [
        "def requests_to_website(url):\n",
        "  headers = {\n",
        "    'User-Agent': 'Mozilla/5.0 (Windows NT 6.1; WOW64) AppleWebKit/537.36 (KHTML, like Gecko) Chrome/63.0.3239.132 Safari/537.36 QIHU 360SE'\n",
        "  }\n",
        "  return requests.get(url, headers = headers)\n",
        "  \n"
      ],
      "execution_count": 49,
      "outputs": []
    },
    {
      "cell_type": "code",
      "metadata": {
        "id": "LVEIXiqjKfJk"
      },
      "source": [
        "\n",
        "def parser_website(r):\n",
        "  #tạo một đối tượng BeautifulSoup và chỉ định trình phân tích cú pháp là lxml\n",
        "  return BeautifulSoup(r.content,'lxml')"
      ],
      "execution_count": 50,
      "outputs": []
    },
    {
      "cell_type": "markdown",
      "metadata": {
        "id": "QF20tn1-90eZ"
      },
      "source": [
        "## **Hàm lấy các thẻ**"
      ]
    },
    {
      "cell_type": "code",
      "metadata": {
        "id": "16S3BFRe93Lt"
      },
      "source": [
        "def get_tag(r):\n",
        "  return parser_website(r).find('main',class_=\"MonthPage\").find_all('a')"
      ],
      "execution_count": 51,
      "outputs": []
    },
    {
      "cell_type": "markdown",
      "metadata": {
        "id": "Y1RPn_HV951r"
      },
      "source": [
        "## **Hàm kiểm tra năm**"
      ]
    },
    {
      "cell_type": "code",
      "metadata": {
        "id": "I0kzVTtj98SW"
      },
      "source": [
        "def check_year(year,tag):\n",
        "  t=tag.find('time',class_='time')['datetime'][:11]\n",
        "  t=int(t[:4])\n",
        "  if t<year-2:    # lấy giá trị datetime trong thẻ time và có class='entry-data'. sau đó lấy 4 kí tự đầu và chuyển về kiểu int thì được năm đăng bài viết\n",
        "    return False\n",
        "  return True"
      ],
      "execution_count": 52,
      "outputs": []
    },
    {
      "cell_type": "markdown",
      "metadata": {
        "id": "0ZT-O-4i9900"
      },
      "source": [
        "## **Hàm trích xuất các dữ liệu cần thiết**"
      ]
    },
    {
      "cell_type": "code",
      "metadata": {
        "id": "V1kP3M669_dw"
      },
      "source": [
        "def extract_data(hl,link,kind,r):\n",
        "  tag=get_tag(r)\n",
        "  for i in tag:\n",
        "    link.append(i['href']) # lấy url thêm vào mảng\n",
        "    hl.append(i.get_text().strip('\\n')) # lọc tiêu đề\n",
        "    kind.append(0) # gán nhãn\n",
        "\n",
        "    "
      ],
      "execution_count": 53,
      "outputs": []
    },
    {
      "cell_type": "markdown",
      "metadata": {
        "id": "08tqPvZ5-BIR"
      },
      "source": [
        "## **Hàm ghi file**"
      ]
    },
    {
      "cell_type": "code",
      "metadata": {
        "id": "_X4ICbd0-CM6"
      },
      "source": [
        "import pandas as pd\n",
        "def Write_file(hl,link,kind,fileName):\n",
        "  data=pd.DataFrame(columns=['headline','article_link','is_sarcastic'])\n",
        "  data['headline']=hl\n",
        "  data['article_link']=link\n",
        "  data['is_sarcastic']=kind\n",
        "  data.to_csv(fileName,index=False,encoding='utf-8')\n"
      ],
      "execution_count": 54,
      "outputs": []
    },
    {
      "cell_type": "markdown",
      "metadata": {
        "id": "XxZdV3Ti-DsA"
      },
      "source": [
        "## Main"
      ]
    },
    {
      "cell_type": "code",
      "metadata": {
        "id": "V1WUFvc8TwNj"
      },
      "source": [
        "month=['january','february','march','april','may','june','july','august','september','october','november','december']\n",
        "year=['2021','2020','2019']\n"
      ],
      "execution_count": 55,
      "outputs": []
    },
    {
      "cell_type": "code",
      "metadata": {
        "colab": {
          "base_uri": "https://localhost:8080/"
        },
        "id": "ztMRbAK8VRQk",
        "outputId": "8b97121a-5597-4418-f89d-6c290cff2461"
      },
      "source": [
        "for y in year:\n",
        "  for m in month:\n",
        "    n=1\n",
        "    while True:\n",
        "      url='https://www.nbcnews.com/archive/articles/{}/{}/'.format(y,m)\n",
        "      if n>1:\n",
        "        url=url+str(n)\n",
        "      n=n+1\n",
        "      r=requests_to_website(url)\n",
        "      print('\\n',url)\n",
        "      print('\\t',r.status_code)\n",
        "      if r.status_code==404:\n",
        "        break\n",
        "      extract_data(headline,article_link,is_sarcastic,r)"
      ],
      "execution_count": 56,
      "outputs": [
        {
          "output_type": "stream",
          "text": [
            "\n",
            " https://www.nbcnews.com/archive/articles/2021/january/\n",
            "\t 200\n",
            "\n",
            " https://www.nbcnews.com/archive/articles/2021/january/2\n",
            "\t 200\n",
            "\n",
            " https://www.nbcnews.com/archive/articles/2021/january/3\n",
            "\t 404\n",
            "\n",
            " https://www.nbcnews.com/archive/articles/2021/february/\n",
            "\t 200\n",
            "\n",
            " https://www.nbcnews.com/archive/articles/2021/february/2\n",
            "\t 200\n",
            "\n",
            " https://www.nbcnews.com/archive/articles/2021/february/3\n",
            "\t 404\n",
            "\n",
            " https://www.nbcnews.com/archive/articles/2021/march/\n",
            "\t 200\n",
            "\n",
            " https://www.nbcnews.com/archive/articles/2021/march/2\n",
            "\t 200\n",
            "\n",
            " https://www.nbcnews.com/archive/articles/2021/march/3\n",
            "\t 404\n",
            "\n",
            " https://www.nbcnews.com/archive/articles/2021/april/\n",
            "\t 200\n",
            "\n",
            " https://www.nbcnews.com/archive/articles/2021/april/2\n",
            "\t 200\n",
            "\n",
            " https://www.nbcnews.com/archive/articles/2021/april/3\n",
            "\t 404\n",
            "\n",
            " https://www.nbcnews.com/archive/articles/2021/may/\n",
            "\t 200\n",
            "\n",
            " https://www.nbcnews.com/archive/articles/2021/may/2\n",
            "\t 200\n",
            "\n",
            " https://www.nbcnews.com/archive/articles/2021/may/3\n",
            "\t 404\n",
            "\n",
            " https://www.nbcnews.com/archive/articles/2021/june/\n",
            "\t 200\n",
            "\n",
            " https://www.nbcnews.com/archive/articles/2021/june/2\n",
            "\t 404\n",
            "\n",
            " https://www.nbcnews.com/archive/articles/2021/july/\n",
            "\t 404\n",
            "\n",
            " https://www.nbcnews.com/archive/articles/2021/august/\n",
            "\t 404\n",
            "\n",
            " https://www.nbcnews.com/archive/articles/2021/september/\n",
            "\t 404\n",
            "\n",
            " https://www.nbcnews.com/archive/articles/2021/october/\n",
            "\t 404\n",
            "\n",
            " https://www.nbcnews.com/archive/articles/2021/november/\n",
            "\t 404\n",
            "\n",
            " https://www.nbcnews.com/archive/articles/2021/december/\n",
            "\t 404\n",
            "\n",
            " https://www.nbcnews.com/archive/articles/2020/january/\n",
            "\t 200\n",
            "\n",
            " https://www.nbcnews.com/archive/articles/2020/january/2\n",
            "\t 200\n",
            "\n",
            " https://www.nbcnews.com/archive/articles/2020/january/3\n",
            "\t 404\n",
            "\n",
            " https://www.nbcnews.com/archive/articles/2020/february/\n",
            "\t 200\n",
            "\n",
            " https://www.nbcnews.com/archive/articles/2020/february/2\n",
            "\t 200\n",
            "\n",
            " https://www.nbcnews.com/archive/articles/2020/february/3\n",
            "\t 404\n",
            "\n",
            " https://www.nbcnews.com/archive/articles/2020/march/\n",
            "\t 200\n",
            "\n",
            " https://www.nbcnews.com/archive/articles/2020/march/2\n",
            "\t 200\n",
            "\n",
            " https://www.nbcnews.com/archive/articles/2020/march/3\n",
            "\t 404\n",
            "\n",
            " https://www.nbcnews.com/archive/articles/2020/april/\n",
            "\t 200\n",
            "\n",
            " https://www.nbcnews.com/archive/articles/2020/april/2\n",
            "\t 200\n",
            "\n",
            " https://www.nbcnews.com/archive/articles/2020/april/3\n",
            "\t 404\n",
            "\n",
            " https://www.nbcnews.com/archive/articles/2020/may/\n",
            "\t 200\n",
            "\n",
            " https://www.nbcnews.com/archive/articles/2020/may/2\n",
            "\t 200\n",
            "\n",
            " https://www.nbcnews.com/archive/articles/2020/may/3\n",
            "\t 404\n",
            "\n",
            " https://www.nbcnews.com/archive/articles/2020/june/\n",
            "\t 200\n",
            "\n",
            " https://www.nbcnews.com/archive/articles/2020/june/2\n",
            "\t 200\n",
            "\n",
            " https://www.nbcnews.com/archive/articles/2020/june/3\n",
            "\t 404\n",
            "\n",
            " https://www.nbcnews.com/archive/articles/2020/july/\n",
            "\t 200\n",
            "\n",
            " https://www.nbcnews.com/archive/articles/2020/july/2\n",
            "\t 200\n",
            "\n",
            " https://www.nbcnews.com/archive/articles/2020/july/3\n",
            "\t 404\n",
            "\n",
            " https://www.nbcnews.com/archive/articles/2020/august/\n",
            "\t 200\n",
            "\n",
            " https://www.nbcnews.com/archive/articles/2020/august/2\n",
            "\t 200\n",
            "\n",
            " https://www.nbcnews.com/archive/articles/2020/august/3\n",
            "\t 404\n",
            "\n",
            " https://www.nbcnews.com/archive/articles/2020/september/\n",
            "\t 200\n",
            "\n",
            " https://www.nbcnews.com/archive/articles/2020/september/2\n",
            "\t 200\n",
            "\n",
            " https://www.nbcnews.com/archive/articles/2020/september/3\n",
            "\t 404\n",
            "\n",
            " https://www.nbcnews.com/archive/articles/2020/october/\n",
            "\t 200\n",
            "\n",
            " https://www.nbcnews.com/archive/articles/2020/october/2\n",
            "\t 200\n",
            "\n",
            " https://www.nbcnews.com/archive/articles/2020/october/3\n",
            "\t 404\n",
            "\n",
            " https://www.nbcnews.com/archive/articles/2020/november/\n",
            "\t 200\n",
            "\n",
            " https://www.nbcnews.com/archive/articles/2020/november/2\n",
            "\t 200\n",
            "\n",
            " https://www.nbcnews.com/archive/articles/2020/november/3\n",
            "\t 404\n",
            "\n",
            " https://www.nbcnews.com/archive/articles/2020/december/\n",
            "\t 200\n",
            "\n",
            " https://www.nbcnews.com/archive/articles/2020/december/2\n",
            "\t 200\n",
            "\n",
            " https://www.nbcnews.com/archive/articles/2020/december/3\n",
            "\t 404\n",
            "\n",
            " https://www.nbcnews.com/archive/articles/2019/january/\n",
            "\t 200\n",
            "\n",
            " https://www.nbcnews.com/archive/articles/2019/january/2\n",
            "\t 200\n",
            "\n",
            " https://www.nbcnews.com/archive/articles/2019/january/3\n",
            "\t 404\n",
            "\n",
            " https://www.nbcnews.com/archive/articles/2019/february/\n",
            "\t 200\n",
            "\n",
            " https://www.nbcnews.com/archive/articles/2019/february/2\n",
            "\t 200\n",
            "\n",
            " https://www.nbcnews.com/archive/articles/2019/february/3\n",
            "\t 404\n",
            "\n",
            " https://www.nbcnews.com/archive/articles/2019/march/\n",
            "\t 200\n",
            "\n",
            " https://www.nbcnews.com/archive/articles/2019/march/2\n",
            "\t 200\n",
            "\n",
            " https://www.nbcnews.com/archive/articles/2019/march/3\n",
            "\t 404\n",
            "\n",
            " https://www.nbcnews.com/archive/articles/2019/april/\n",
            "\t 200\n",
            "\n",
            " https://www.nbcnews.com/archive/articles/2019/april/2\n",
            "\t 200\n",
            "\n",
            " https://www.nbcnews.com/archive/articles/2019/april/3\n",
            "\t 404\n",
            "\n",
            " https://www.nbcnews.com/archive/articles/2019/may/\n",
            "\t 200\n",
            "\n",
            " https://www.nbcnews.com/archive/articles/2019/may/2\n",
            "\t 200\n",
            "\n",
            " https://www.nbcnews.com/archive/articles/2019/may/3\n",
            "\t 404\n",
            "\n",
            " https://www.nbcnews.com/archive/articles/2019/june/\n",
            "\t 200\n",
            "\n",
            " https://www.nbcnews.com/archive/articles/2019/june/2\n",
            "\t 200\n",
            "\n",
            " https://www.nbcnews.com/archive/articles/2019/june/3\n",
            "\t 404\n",
            "\n",
            " https://www.nbcnews.com/archive/articles/2019/july/\n",
            "\t 200\n",
            "\n",
            " https://www.nbcnews.com/archive/articles/2019/july/2\n",
            "\t 200\n",
            "\n",
            " https://www.nbcnews.com/archive/articles/2019/july/3\n",
            "\t 404\n",
            "\n",
            " https://www.nbcnews.com/archive/articles/2019/august/\n",
            "\t 200\n",
            "\n",
            " https://www.nbcnews.com/archive/articles/2019/august/2\n",
            "\t 200\n",
            "\n",
            " https://www.nbcnews.com/archive/articles/2019/august/3\n",
            "\t 404\n",
            "\n",
            " https://www.nbcnews.com/archive/articles/2019/september/\n",
            "\t 200\n",
            "\n",
            " https://www.nbcnews.com/archive/articles/2019/september/2\n",
            "\t 200\n",
            "\n",
            " https://www.nbcnews.com/archive/articles/2019/september/3\n",
            "\t 404\n",
            "\n",
            " https://www.nbcnews.com/archive/articles/2019/october/\n",
            "\t 200\n",
            "\n",
            " https://www.nbcnews.com/archive/articles/2019/october/2\n",
            "\t 200\n",
            "\n",
            " https://www.nbcnews.com/archive/articles/2019/october/3\n",
            "\t 404\n",
            "\n",
            " https://www.nbcnews.com/archive/articles/2019/november/\n",
            "\t 200\n",
            "\n",
            " https://www.nbcnews.com/archive/articles/2019/november/2\n",
            "\t 200\n",
            "\n",
            " https://www.nbcnews.com/archive/articles/2019/november/3\n",
            "\t 404\n",
            "\n",
            " https://www.nbcnews.com/archive/articles/2019/december/\n",
            "\t 200\n",
            "\n",
            " https://www.nbcnews.com/archive/articles/2019/december/2\n",
            "\t 200\n",
            "\n",
            " https://www.nbcnews.com/archive/articles/2019/december/3\n",
            "\t 404\n"
          ],
          "name": "stdout"
        }
      ]
    },
    {
      "cell_type": "code",
      "metadata": {
        "colab": {
          "base_uri": "https://localhost:8080/"
        },
        "id": "Agbg9XLsYGoq",
        "outputId": "01676f43-dcd6-4ab1-de0c-e3f92909ae24"
      },
      "source": [
        "len(article_link)"
      ],
      "execution_count": 60,
      "outputs": [
        {
          "output_type": "execute_result",
          "data": {
            "text/plain": [
              "50387"
            ]
          },
          "metadata": {
            "tags": []
          },
          "execution_count": 60
        }
      ]
    },
    {
      "cell_type": "code",
      "metadata": {
        "id": "LzkgwaKglVWw"
      },
      "source": [
        "import pandas as pd\n",
        "def Write_file(hl,link,kind,fileName):\n",
        "  data=pd.DataFrame(columns=['headline','article_link','is_sarcastic'])\n",
        "  data['headline']=hl\n",
        "  data['article_link']=link\n",
        "  data['is_sarcastic']=kind\n",
        "  data.to_csv(fileName,index=False)"
      ],
      "execution_count": 58,
      "outputs": []
    },
    {
      "cell_type": "code",
      "metadata": {
        "id": "lNlSHcX1lGEn"
      },
      "source": [
        "Write_file(headline,article_link,is_sarcastic,'nbcnews.com.csv')"
      ],
      "execution_count": 61,
      "outputs": []
    },
    {
      "cell_type": "code",
      "metadata": {
        "id": "rGDcv9lV_USJ",
        "outputId": "78a413b6-4f4d-4589-bf32-7f18a4a211f5",
        "colab": {
          "base_uri": "https://localhost:8080/",
          "height": 359
        }
      },
      "source": [
        "df=pd.read_csv('./nbcnews.com.csv')\n",
        "df.head(10)"
      ],
      "execution_count": 62,
      "outputs": [
        {
          "output_type": "execute_result",
          "data": {
            "text/html": [
              "<div>\n",
              "<style scoped>\n",
              "    .dataframe tbody tr th:only-of-type {\n",
              "        vertical-align: middle;\n",
              "    }\n",
              "\n",
              "    .dataframe tbody tr th {\n",
              "        vertical-align: top;\n",
              "    }\n",
              "\n",
              "    .dataframe thead th {\n",
              "        text-align: right;\n",
              "    }\n",
              "</style>\n",
              "<table border=\"1\" class=\"dataframe\">\n",
              "  <thead>\n",
              "    <tr style=\"text-align: right;\">\n",
              "      <th></th>\n",
              "      <th>headline</th>\n",
              "      <th>article_link</th>\n",
              "      <th>is_sarcastic</th>\n",
              "    </tr>\n",
              "  </thead>\n",
              "  <tbody>\n",
              "    <tr>\n",
              "      <th>0</th>\n",
              "      <td>U.S. restores Medicaid for Marshall Islands, e...</td>\n",
              "      <td>https://www.nbcnews.com/news/asian-america/u-s...</td>\n",
              "      <td>0</td>\n",
              "    </tr>\n",
              "    <tr>\n",
              "      <th>1</th>\n",
              "      <td>Millions of Americans moved during the pandemi...</td>\n",
              "      <td>https://www.nbcnews.com/business/business-news...</td>\n",
              "      <td>0</td>\n",
              "    </tr>\n",
              "    <tr>\n",
              "      <th>2</th>\n",
              "      <td>Danny Masterson harassment suit must go throug...</td>\n",
              "      <td>https://www.nbcnews.com/news/us-news/danny-mas...</td>\n",
              "      <td>0</td>\n",
              "    </tr>\n",
              "    <tr>\n",
              "      <th>3</th>\n",
              "      <td>Rep. Jamie Raskin announces death of 25-year-o...</td>\n",
              "      <td>https://www.nbcnews.com/politics/congress/rep-...</td>\n",
              "      <td>0</td>\n",
              "    </tr>\n",
              "    <tr>\n",
              "      <th>4</th>\n",
              "      <td>Trump extends Covid-related visa ban; health c...</td>\n",
              "      <td>https://www.nbcnews.com/politics/white-house/t...</td>\n",
              "      <td>0</td>\n",
              "    </tr>\n",
              "    <tr>\n",
              "      <th>5</th>\n",
              "      <td>Covid variant found in Florida; more cases ide...</td>\n",
              "      <td>https://www.nbcnews.com/news/us-news/covid-var...</td>\n",
              "      <td>0</td>\n",
              "    </tr>\n",
              "    <tr>\n",
              "      <th>6</th>\n",
              "      <td>Dog days of Florida come to an end, with total...</td>\n",
              "      <td>https://www.nbcnews.com/news/us-news/dog-days-...</td>\n",
              "      <td>0</td>\n",
              "    </tr>\n",
              "    <tr>\n",
              "      <th>7</th>\n",
              "      <td>U.S. sees some indications of possible Iranian...</td>\n",
              "      <td>https://www.nbcnews.com/news/world/u-s-sees-so...</td>\n",
              "      <td>0</td>\n",
              "    </tr>\n",
              "    <tr>\n",
              "      <th>8</th>\n",
              "      <td>World rings in 2021 with muted celebrations am...</td>\n",
              "      <td>https://www.nbcnews.com/news/world/world-rings...</td>\n",
              "      <td>0</td>\n",
              "    </tr>\n",
              "    <tr>\n",
              "      <th>9</th>\n",
              "      <td>Brexit and Boris Johnson's broken promises mea...</td>\n",
              "      <td>https://www.nbcnews.com/think/opinion/brexit-b...</td>\n",
              "      <td>0</td>\n",
              "    </tr>\n",
              "  </tbody>\n",
              "</table>\n",
              "</div>"
            ],
            "text/plain": [
              "                                            headline  ... is_sarcastic\n",
              "0  U.S. restores Medicaid for Marshall Islands, e...  ...            0\n",
              "1  Millions of Americans moved during the pandemi...  ...            0\n",
              "2  Danny Masterson harassment suit must go throug...  ...            0\n",
              "3  Rep. Jamie Raskin announces death of 25-year-o...  ...            0\n",
              "4  Trump extends Covid-related visa ban; health c...  ...            0\n",
              "5  Covid variant found in Florida; more cases ide...  ...            0\n",
              "6  Dog days of Florida come to an end, with total...  ...            0\n",
              "7  U.S. sees some indications of possible Iranian...  ...            0\n",
              "8  World rings in 2021 with muted celebrations am...  ...            0\n",
              "9  Brexit and Boris Johnson's broken promises mea...  ...            0\n",
              "\n",
              "[10 rows x 3 columns]"
            ]
          },
          "metadata": {
            "tags": []
          },
          "execution_count": 62
        }
      ]
    }
  ]
}